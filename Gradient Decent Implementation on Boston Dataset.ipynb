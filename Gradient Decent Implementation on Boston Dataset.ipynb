{
 "cells": [
  {
   "cell_type": "markdown",
   "metadata": {},
   "source": [
    "# Gradient Decent Implementation on Boston Dataset"
   ]
  },
  {
   "cell_type": "code",
   "execution_count": 1,
   "metadata": {},
   "outputs": [],
   "source": [
    "import numpy as np\n",
    "import pandas as pd\n",
    "import random"
   ]
  },
  {
   "cell_type": "markdown",
   "metadata": {},
   "source": [
    "## Input x,y,x_test"
   ]
  },
  {
   "cell_type": "code",
   "execution_count": 2,
   "metadata": {},
   "outputs": [
    {
     "data": {
      "text/plain": [
       "array([[-0.40784991, -0.48772236, -1.2660231 , ...,  0.41057102,\n",
       "        -1.09799011, 37.9       ],\n",
       "       [-0.40737368, -0.48772236,  0.24705682, ...,  0.29116915,\n",
       "        -0.52047412, 21.4       ],\n",
       "       [ 0.1251786 , -0.48772236,  1.01599907, ..., -3.79579542,\n",
       "         0.89107588, 12.7       ],\n",
       "       ...,\n",
       "       [-0.40831101, -0.48772236,  0.24705682, ...,  0.33206621,\n",
       "        -0.33404299, 20.8       ],\n",
       "       [-0.41061997, -0.48772236, -1.15221381, ...,  0.203235  ,\n",
       "        -0.74475218, 22.6       ],\n",
       "       [ 0.34290895, -0.48772236,  1.01599907, ...,  0.38787479,\n",
       "        -1.35871335, 50.        ]])"
      ]
     },
     "execution_count": 2,
     "metadata": {},
     "output_type": "execute_result"
    }
   ],
   "source": [
    "data=np.genfromtxt('boston_x_y_train.csv',delimiter=',')\n",
    "data_test=np.genfromtxt('boston_x_test.csv',delimiter=',')\n",
    "data"
   ]
  },
  {
   "cell_type": "code",
   "execution_count": 3,
   "metadata": {},
   "outputs": [
    {
     "data": {
      "text/plain": [
       "(379, 13)"
      ]
     },
     "execution_count": 3,
     "metadata": {},
     "output_type": "execute_result"
    }
   ],
   "source": [
    "x=data[:,0:13]\n",
    "y=data[:,13]\n",
    "x_test=data_test\n",
    "x.shape"
   ]
  },
  {
   "cell_type": "markdown",
   "metadata": {},
   "source": [
    "## process"
   ]
  },
  {
   "cell_type": "code",
   "execution_count": 4,
   "metadata": {},
   "outputs": [],
   "source": [
    "[d0,d1]=x.shape\n",
    "[dt0,dt1]=x_test.shape\n",
    "norm=np.zeros([2,d1])"
   ]
  },
  {
   "cell_type": "markdown",
   "metadata": {},
   "source": [
    "### Standardize training data"
   ]
  },
  {
   "cell_type": "code",
   "execution_count": 5,
   "metadata": {},
   "outputs": [
    {
     "data": {
      "text/plain": [
       "array([[-0.40098068, -0.49042688, -1.28149216, ..., -0.32264241,\n",
       "         0.42027996, -1.10095452],\n",
       "       [-0.40053396, -0.49042688,  0.20753471, ...,  0.09391068,\n",
       "         0.30257958, -0.53143278],\n",
       "       [ 0.09900799, -0.49042688,  0.96425328, ...,  0.78816582,\n",
       "        -3.72614514,  0.86057789],\n",
       "       ...,\n",
       "       [-0.40141319, -0.49042688,  0.20753471, ...,  0.09391068,\n",
       "         0.34289385, -0.34758231],\n",
       "       [-0.40357903, -0.49042688, -1.16949207, ..., -0.7391955 ,\n",
       "         0.21589851, -0.75260628],\n",
       "       [ 0.30324229, -0.49042688,  0.96425328, ...,  0.78816582,\n",
       "         0.39790715, -1.35806871]])"
      ]
     },
     "execution_count": 5,
     "metadata": {},
     "output_type": "execute_result"
    }
   ],
   "source": [
    "for i in range(d1):\n",
    "    norm[0,i]=x[:,i].mean()\n",
    "    norm[1,i]=np.sqrt(x[:,i].var())\n",
    "    x[:,i]=(x[:,i]-norm[0,i])/norm[1,i]\n",
    "x"
   ]
  },
  {
   "cell_type": "markdown",
   "metadata": {},
   "source": [
    "### standardizing test data"
   ]
  },
  {
   "cell_type": "code",
   "execution_count": 6,
   "metadata": {},
   "outputs": [
    {
     "data": {
      "text/plain": [
       "array([[ 2.71887193, -0.49042688,  0.96425328, ...,  0.78816582,\n",
       "        -1.55922624,  1.00848766],\n",
       "       [-0.39679863, -0.49042688,  0.36404766, ..., -1.15574859,\n",
       "         0.45032651, -0.90051604],\n",
       "       [-0.4059786 , -0.49042688,  0.07830384, ...,  1.15843524,\n",
       "         0.45032651, -0.5120801 ],\n",
       "       ...,\n",
       "       [-0.40301108,  2.08605624, -1.39205635, ..., -0.09122402,\n",
       "         0.40093342, -0.69040122],\n",
       "       [-0.39659658, -0.49042688, -0.405594  , ...,  1.11215156,\n",
       "         0.35078378,  0.1804694 ],\n",
       "       [-0.14369589, -0.49042688,  1.17676627, ..., -1.75743638,\n",
       "        -2.88149098,  0.46384794]])"
      ]
     },
     "execution_count": 6,
     "metadata": {},
     "output_type": "execute_result"
    }
   ],
   "source": [
    "for i in range(d1):\n",
    "    x_test[:,i]=(x_test[:,i]-norm[0,i])/norm[1,i]\n",
    "x_test"
   ]
  },
  {
   "cell_type": "code",
   "execution_count": 7,
   "metadata": {},
   "outputs": [
    {
     "data": {
      "text/plain": [
       "array([ 1.63059527e+00, -1.28982221e-01, -1.05675944e+00, -2.88943812e-01,\n",
       "       -1.16770554e-02,  1.07606176e+00,  6.29716867e-02, -1.18318115e-01,\n",
       "       -2.24959176e-01,  1.14004639e+00,  5.23075807e-02, -2.78279706e-01,\n",
       "        2.92095210e+00,  2.54925595e-01, -2.56951494e-01, -6.62187522e-01,\n",
       "       -2.23411614e-02, -2.35623282e-01, -4.48905402e-01,  1.56661063e+00,\n",
       "        5.23075807e-02,  1.28934388e+00,  1.11871818e+00,  6.49497517e-01,\n",
       "       -7.47500370e-01, -4.70233614e-01, -5.76874674e-01,  9.48092485e-01,\n",
       "        4.25551291e-01,  1.58948641e-01, -3.30052674e-02, -3.31600236e-01,\n",
       "        1.43864136e+00, -5.34218250e-01,  1.15071050e+00, -1.47265958e+00,\n",
       "       -1.37668262e+00, -9.82110702e-01,  1.83321328e+00,  1.90940959e-01,\n",
       "       -5.12890038e-01,  1.80276853e-01,  1.48284535e-01,  5.23075807e-02,\n",
       "       -1.01410302e+00, -6.30195204e-01,  2.03152626e-02,  5.21528245e-01,\n",
       "       -8.54141430e-01, -9.82110702e-01, -1.23804925e+00, -3.42264342e-01,\n",
       "       -8.11485006e-01,  2.36641858e+00,  7.45474471e-01, -1.09941587e+00,\n",
       "        2.12269171e-01, -1.24871335e+00,  5.74848775e-01,  8.73443743e-01,\n",
       "       -7.68828582e-01, -4.91561826e-01,  1.34266441e+00, -1.18472872e+00,\n",
       "       -3.31600236e-01,  2.33597383e-01, -4.36693734e-02, -2.67615600e-01,\n",
       "       -7.90156794e-01,  2.92095210e+00, -5.87538780e-01,  4.16434747e-02,\n",
       "       -1.13140819e+00, -6.49975854e-02, -2.78279706e-01, -2.46287388e-01,\n",
       "       -5.76874674e-01,  1.55594653e+00, -1.87789561e+00,  2.01605065e-01,\n",
       "       -3.95584872e-01,  2.01605065e-01,  2.33597383e-01, -1.07654009e-01,\n",
       "       -1.66461349e+00, -5.23554144e-01, -1.04609534e+00, -8.22149112e-01,\n",
       "       -4.59569508e-01, -7.47500370e-01, -2.88943812e-01, -4.36693734e-02,\n",
       "       -6.30195204e-01,  1.05473355e+00,  2.65589701e-01,  7.98795001e-01,\n",
       "       -6.94179840e-01, -2.03630964e-01,  2.49438786e+00, -3.30052674e-02,\n",
       "        4.16434747e-02, -1.14207229e+00,  7.36357927e-02,  6.29716867e-02,\n",
       "       -6.49975854e-02, -1.29136978e+00, -5.76874674e-01,  7.66802683e-01,\n",
       "        6.81489835e-01, -5.66210568e-01, -2.14295070e-01, -2.67615600e-01,\n",
       "       -2.14295070e-01, -5.12890038e-01,  2.54925595e-01, -1.01294938e-03,\n",
       "       -4.16913084e-01, -1.20605693e+00, -1.38734673e+00, -5.12890038e-01,\n",
       "        1.37620429e-01,  1.71590812e+00, -1.50310434e-01,  2.54925595e-01,\n",
       "        6.28169305e-01,  1.48284535e-01, -2.14295070e-01, -1.87789561e+00,\n",
       "        3.09793686e-02, -4.48905402e-01,  8.94771955e-01,  1.42797726e+00,\n",
       "       -1.92966858e-01, -9.92774808e-01,  6.29716867e-02,  5.96176987e-01,\n",
       "        2.25977752e+00,  4.25551291e-01,  1.37620429e-01,  1.37620429e-01,\n",
       "        5.64184669e-01, -3.74256660e-01,  8.41451425e-01, -1.52598011e+00,\n",
       "       -1.50465190e+00, -6.51523416e-01,  1.26956323e-01, -3.20936130e-01,\n",
       "       -4.36693734e-02,  1.80276853e-01,  1.00141302e+00,  3.82894867e-01,\n",
       "       -9.69899035e-02, -2.14295070e-01, -2.78279706e-01, -1.61129296e+00,\n",
       "        1.10805408e+00, -8.22149112e-01, -8.32813218e-01,  2.92095210e+00,\n",
       "        4.04223079e-01, -3.10272024e-01, -7.47500370e-01,  2.54925595e-01,\n",
       "        9.65115663e-03, -7.90156794e-01,  1.53461832e+00,  9.58756591e-01,\n",
       "       -3.52928448e-01, -7.47500370e-01, -1.54730832e+00,  1.16292217e-01,\n",
       "        1.00141302e+00,  2.15313646e+00, -1.28982221e-01,  9.58756591e-01,\n",
       "       -9.07461960e-01,  5.21528245e-01, -1.16770554e-02, -9.60782490e-01,\n",
       "       -1.62195706e+00, -4.06248978e-01,  2.92095210e+00,  7.98795001e-01,\n",
       "       -1.30203388e+00, -8.64805536e-01,  2.03583130e+00, -8.54141430e-01,\n",
       "        1.16292217e-01, -6.94179840e-01,  1.02274123e+00, -8.96797854e-01,\n",
       "        2.92095210e+00,  4.16434747e-02, -3.74256660e-01, -8.11485006e-01,\n",
       "       -8.11485006e-01, -4.38241296e-01, -1.30203388e+00,  2.22933277e-01,\n",
       "        1.48129779e+00, -9.69899035e-02,  2.73966229e+00,  5.21528245e-01,\n",
       "       -1.06742355e+00,  1.44930547e+00,  7.77466789e-01,  2.22778521e+00,\n",
       "       -3.20936130e-01, -3.42264342e-01, -1.15273640e+00,  1.31067209e+00,\n",
       "       -5.12890038e-01, -9.18126066e-01, -6.83515734e-01, -2.78279706e-01,\n",
       "       -1.60974540e-01, -6.40859310e-01, -3.95584872e-01, -8.64805536e-01,\n",
       "       -3.52928448e-01,  2.54925595e-01, -3.95584872e-01,  9.05436061e-01,\n",
       "       -1.52598011e+00, -5.02225932e-01, -5.43334794e-02, -3.31600236e-01,\n",
       "       -2.14295070e-01, -1.82302752e-01, -2.35623282e-01, -6.19531098e-01,\n",
       "       -1.12074408e+00, -7.36836264e-01,  1.09738997e+00,  1.31067209e+00,\n",
       "       -8.86133748e-01, -1.16340050e+00,  7.98795001e-01,  2.54925595e-01,\n",
       "        6.92153941e-01,  1.11871818e+00,  1.44930547e+00,  1.90940959e-01,\n",
       "        3.09793686e-02,  2.92095210e+00, -7.90156794e-01,  2.56903660e+00,\n",
       "       -1.81391097e+00, -9.39454278e-01, -1.64328527e+00,  4.78871821e-01,\n",
       "        4.14887185e-01, -4.38241296e-01, -6.49975854e-02, -7.56616914e-02,\n",
       "       -4.80897720e-01, -7.04843946e-01, -5.44882356e-01, -1.07808766e+00,\n",
       "        6.49497517e-01, -4.16913084e-01,  5.23075807e-02, -9.92774808e-01,\n",
       "       -1.71638646e-01, -5.98202886e-01, -1.51531600e+00, -1.00343891e+00,\n",
       "        2.03152626e-02,  1.26956323e-01, -2.35623282e-01,  2.43040322e+00,\n",
       "       -3.63592554e-01,  3.09793686e-02, -1.39801084e+00, -2.67615600e-01,\n",
       "       -4.38241296e-01, -3.42264342e-01,  8.62779637e-01, -4.38241296e-01,\n",
       "        2.92095210e+00,  5.21528245e-01,  1.12938229e+00,  9.69420697e-01,\n",
       "       -4.48905402e-01,  5.64184669e-01, -4.59569508e-01, -2.56951494e-01,\n",
       "        5.23075807e-02, -1.51531600e+00,  2.79298283e+00, -9.39454278e-01,\n",
       "        2.86917913e-01,  9.16100167e-01, -6.51523416e-01, -4.06248978e-01,\n",
       "        1.90940959e-01, -6.83515734e-01, -9.82110702e-01,  9.48092485e-01,\n",
       "        1.16292217e-01, -7.56616914e-02,  2.54925595e-01, -2.78279706e-01,\n",
       "        4.25551291e-01,  3.09793686e-02, -2.88943812e-01,  1.16292217e-01,\n",
       "        2.01605065e-01,  1.59860295e+00, -9.71446596e-01, -3.31600236e-01,\n",
       "        1.90940959e-01,  1.27867977e+00, -4.36693734e-02,  2.22933277e-01,\n",
       "       -9.07461960e-01,  1.12938229e+00, -3.52928448e-01, -2.99607918e-01,\n",
       "        2.92095210e+00, -1.01410302e+00, -3.84920766e-01, -3.74256660e-01,\n",
       "        1.47063368e+00,  1.36399262e+00,  9.49640047e-02, -1.64328527e+00,\n",
       "       -7.79492688e-01, -8.63257975e-02, -5.55546462e-01, -1.01294938e-03,\n",
       "       -1.50465190e+00,  2.33597383e-01, -4.70233614e-01, -9.69899035e-02,\n",
       "       -5.55546462e-01,  2.92095210e+00,  4.78871821e-01, -1.73926223e+00,\n",
       "        1.69612747e-01,  1.80276853e-01, -3.42264342e-01, -5.55546462e-01,\n",
       "       -1.48332368e+00, -5.12890038e-01, -3.20936130e-01,  2.18512878e+00,\n",
       "       -2.67615600e-01, -1.25937746e+00, -6.49975854e-02, -1.50310434e-01,\n",
       "        1.58948641e-01,  6.49497517e-01, -6.40859310e-01, -1.66461349e+00,\n",
       "        9.65115663e-03,  4.68207715e-01, -9.71446596e-01, -6.94179840e-01,\n",
       "       -1.28982221e-01,  2.12269171e-01, -2.67615600e-01,  2.92095210e+00,\n",
       "       -1.05675944e+00,  5.23075807e-02, -1.60974540e-01, -9.92774808e-01,\n",
       "       -9.28790172e-01, -9.69899035e-02,  1.37620429e-01, -2.46287388e-01,\n",
       "       -9.60782490e-01, -1.92966858e-01,  2.92095210e+00, -8.86133748e-01,\n",
       "       -1.92966858e-01, -1.01294938e-03,  2.92095210e+00])"
      ]
     },
     "execution_count": 7,
     "metadata": {},
     "output_type": "execute_result"
    }
   ],
   "source": [
    "mean=y.mean()\n",
    "sd=np.sqrt(y.var())\n",
    "y=(y-mean)/sd\n",
    "y"
   ]
  },
  {
   "cell_type": "code",
   "execution_count": 8,
   "metadata": {},
   "outputs": [
    {
     "data": {
      "text/plain": [
       "array([[-0.40098068, -0.49042688, -1.28149216, ...,  0.42027996,\n",
       "        -1.10095452,  1.        ],\n",
       "       [-0.40053396, -0.49042688,  0.20753471, ...,  0.30257958,\n",
       "        -0.53143278,  1.        ],\n",
       "       [ 0.09900799, -0.49042688,  0.96425328, ..., -3.72614514,\n",
       "         0.86057789,  1.        ],\n",
       "       ...,\n",
       "       [-0.40141319, -0.49042688,  0.20753471, ...,  0.34289385,\n",
       "        -0.34758231,  1.        ],\n",
       "       [-0.40357903, -0.49042688, -1.16949207, ...,  0.21589851,\n",
       "        -0.75260628,  1.        ],\n",
       "       [ 0.30324229, -0.49042688,  0.96425328, ...,  0.39790715,\n",
       "        -1.35806871,  1.        ]])"
      ]
     },
     "execution_count": 8,
     "metadata": {},
     "output_type": "execute_result"
    }
   ],
   "source": [
    "xdf=pd.DataFrame(x)\n",
    "xdf[d1]=np.ones(d0)\n",
    "x=xdf.values\n",
    "x"
   ]
  },
  {
   "cell_type": "code",
   "execution_count": 9,
   "metadata": {},
   "outputs": [
    {
     "data": {
      "text/plain": [
       "array([[ 2.71887193, -0.49042688,  0.96425328, ..., -1.55922624,\n",
       "         1.00848766,  1.        ],\n",
       "       [-0.39679863, -0.49042688,  0.36404766, ...,  0.45032651,\n",
       "        -0.90051604,  1.        ],\n",
       "       [-0.4059786 , -0.49042688,  0.07830384, ...,  0.45032651,\n",
       "        -0.5120801 ,  1.        ],\n",
       "       ...,\n",
       "       [-0.40301108,  2.08605624, -1.39205635, ...,  0.40093342,\n",
       "        -0.69040122,  1.        ],\n",
       "       [-0.39659658, -0.49042688, -0.405594  , ...,  0.35078378,\n",
       "         0.1804694 ,  1.        ],\n",
       "       [-0.14369589, -0.49042688,  1.17676627, ..., -2.88149098,\n",
       "         0.46384794,  1.        ]])"
      ]
     },
     "execution_count": 9,
     "metadata": {},
     "output_type": "execute_result"
    }
   ],
   "source": [
    "xtdf=pd.DataFrame(x_test)\n",
    "xtdf[d1]=np.ones(dt0)\n",
    "x_test=xtdf.values\n",
    "x_test"
   ]
  },
  {
   "cell_type": "markdown",
   "metadata": {},
   "source": [
    "### Gradient decent code"
   ]
  },
  {
   "cell_type": "code",
   "execution_count": 10,
   "metadata": {},
   "outputs": [],
   "source": [
    "def grad_point(x,y,m,d1,i):\n",
    "    grad=np.zeros(d1)\n",
    "    for k in range(d1):\n",
    "        grad[k]=2*x[i,k]*((m*x[i,:]).sum()-y[i])\n",
    "    return grad"
   ]
  },
  {
   "cell_type": "code",
   "execution_count": 11,
   "metadata": {},
   "outputs": [],
   "source": [
    "def grad_cost(x,y,m,d0,d1):\n",
    "    grad=np.zeros(d1)\n",
    "    for i in range(d0):\n",
    "        grad+=grad_point(x,y,m,d1,i)\n",
    "    return grad/d0"
   ]
  },
  {
   "cell_type": "code",
   "execution_count": 12,
   "metadata": {},
   "outputs": [],
   "source": [
    "def grad_batch(x,y,m,d0,d1,batch):\n",
    "    grad=np.zeros(d1)\n",
    "    index=random.sample(range(d0),batch)\n",
    "    for i in index:\n",
    "        grad+=grad_point(x,y,m,d1,i)\n",
    "    return grad/batch"
   ]
  },
  {
   "cell_type": "code",
   "execution_count": 13,
   "metadata": {},
   "outputs": [],
   "source": [
    "def gd(x,y,m,d0,d1,lr,limit):\n",
    "    mn=m\n",
    "    i=0\n",
    "    while i< limit:\n",
    "        mn-=lr*grad_cost(x,y,mn,d0,d1)\n",
    "        i+=1\n",
    "    return mn"
   ]
  },
  {
   "cell_type": "code",
   "execution_count": 14,
   "metadata": {},
   "outputs": [],
   "source": [
    "def sgd(x,y,m,d0,d1,lr,limit):\n",
    "    mn=m\n",
    "    i=0\n",
    "    while i< limit:\n",
    "        for j in range(d0):\n",
    "            mn-=lr*grad_point(x,y,mn,d1,j)\n",
    "        i+=1\n",
    "    return mn"
   ]
  },
  {
   "cell_type": "code",
   "execution_count": 15,
   "metadata": {},
   "outputs": [],
   "source": [
    "def bgd(x,y,m,d0,d1,lr,limit,batch):\n",
    "    mn=m\n",
    "    i=0\n",
    "    while i< limit:\n",
    "        mn-=lr*grad_batch(x,y,mn,d0,d1,batch)\n",
    "        i+=1\n",
    "    return mn"
   ]
  },
  {
   "cell_type": "markdown",
   "metadata": {},
   "source": [
    "### Deploying gradient decent"
   ]
  },
  {
   "cell_type": "code",
   "execution_count": 16,
   "metadata": {},
   "outputs": [],
   "source": [
    "[d0,d1]=x.shape\n",
    "[dt0,dt1]=x_test.shape"
   ]
  },
  {
   "cell_type": "code",
   "execution_count": 17,
   "metadata": {},
   "outputs": [],
   "source": [
    "m=np.zeros(d1)"
   ]
  },
  {
   "cell_type": "code",
   "execution_count": 18,
   "metadata": {},
   "outputs": [
    {
     "name": "stdout",
     "output_type": "stream",
     "text": [
      "[-9.48123663e-02  5.05019163e-02 -4.01309436e-02  9.14176946e-02\n",
      " -1.84285943e-01  2.71510593e-01  2.10587904e-03 -2.85655247e-01\n",
      "  1.62923827e-01 -7.31265973e-02 -2.28224592e-01  6.40765262e-02\n",
      " -4.53099284e-01  1.43772417e-16]\n"
     ]
    }
   ],
   "source": [
    "lr=.1\n",
    "mo=gd(x,y,m,d0,d1,lr,50)\n",
    "print(mo)"
   ]
  },
  {
   "cell_type": "markdown",
   "metadata": {},
   "source": [
    "### sklearn gradient decent"
   ]
  },
  {
   "cell_type": "code",
   "execution_count": 19,
   "metadata": {},
   "outputs": [
    {
     "name": "stdout",
     "output_type": "stream",
     "text": [
      "[-0.10664855  0.07898455  0.00126694  0.08723788 -0.23151139  0.25102769\n",
      "  0.01294126 -0.32316528  0.27414947 -0.18498221 -0.2398584   0.06364974\n",
      " -0.46106581  0.        ]\n",
      "1.6072122134934954e-16\n"
     ]
    }
   ],
   "source": [
    "from sklearn import linear_model as lm\n",
    "algo=lm.LinearRegression()\n",
    "algo.fit(x,y)\n",
    "print(algo.coef_)\n",
    "print(algo.intercept_)"
   ]
  },
  {
   "cell_type": "markdown",
   "metadata": {},
   "source": [
    "##  Prediction of gradient decent algorithm"
   ]
  },
  {
   "cell_type": "code",
   "execution_count": 20,
   "metadata": {},
   "outputs": [
    {
     "data": {
      "text/plain": [
       "array([11.86787645, 28.83473232, 22.42330342, 24.27628823, 21.06271411,\n",
       "        2.83162535, 29.45642353, 24.46936915, 18.83498212, 23.43482616,\n",
       "       24.36564504, 17.94504806, 18.56740574, 21.90232977, 42.7026309 ,\n",
       "       24.15841385, 24.49396283, 27.69370334, 20.48612688, 31.41362267,\n",
       "       24.19587593, 24.69305074, 33.75880368, 35.92796827, 32.25498036,\n",
       "       16.06260793, 23.08323287, 33.04409724, 24.57701243, 33.46258336,\n",
       "       17.20140536, 26.28176191, 23.51663932, 25.44354246, 15.02832489,\n",
       "       29.39355696, 26.13336549, 20.69200689, 24.12469285,  9.54239948,\n",
       "        7.65210549, 28.68538876, 29.57962084, 20.13142738, 20.3530021 ,\n",
       "        2.77449118, 39.57795369, 25.77852165, 29.93551754, 16.97950951,\n",
       "       17.72861945, 39.97042782, 17.75063224, 21.17669026, 15.89021297,\n",
       "       21.30263278, 18.49519625, 23.12486377, 13.91447761, 17.26460457,\n",
       "       15.22866833, 29.15487121, 25.24402185, 25.62319394, 16.9740648 ,\n",
       "       16.9629805 , 34.58190137, 17.08107659, 26.61491133, 22.41925589,\n",
       "       29.4456886 , 26.85898562, 18.29373936,  5.45980506, 36.1130971 ,\n",
       "       25.15223025, 29.47159479, 26.83839906, 16.12417425, 32.73114325,\n",
       "       19.48694558, 22.97135996, 23.33473779,  8.31080039, 17.48706239,\n",
       "       29.57107648, 27.0815351 ,  5.58202205, 20.47776634, 19.97682815,\n",
       "       22.09945891, 20.84382434, 21.18196408, 13.29852754, 20.03316708,\n",
       "       26.69224498, 39.79615178, 18.31616236, 33.24267439, 26.69472325,\n",
       "       28.23455177, 22.16195811, 25.39346981, 31.37781129, 17.31276046,\n",
       "       26.14592133, 21.81303302, 37.03208696, 22.00133311, 16.7635826 ,\n",
       "       27.79136232, -0.63547247, 14.14938687, 15.8307312 , 35.79179521,\n",
       "       21.20957543, 21.22661   , 25.21138273, 22.18695989, 19.2824035 ,\n",
       "       13.74496122, 34.90004406, 23.18895068, 24.56248373, 18.63971926,\n",
       "       20.97095017, 15.20474603])"
      ]
     },
     "execution_count": 20,
     "metadata": {},
     "output_type": "execute_result"
    }
   ],
   "source": [
    "y_test=np.zeros(dt0)\n",
    "for i in range(dt0):\n",
    "    y_test[i]=(mo*x_test[i,:]).sum()\n",
    "y_test=(sd*y_test)+mean\n",
    "y_test"
   ]
  },
  {
   "cell_type": "markdown",
   "metadata": {},
   "source": [
    "### Prediction of inbuilt sklearn regression algo"
   ]
  },
  {
   "cell_type": "code",
   "execution_count": 21,
   "metadata": {},
   "outputs": [
    {
     "data": {
      "text/plain": [
       "array([12.43328344, 29.03367318, 22.37164455, 24.47778655, 20.60166977,\n",
       "        2.72533175, 30.40000409, 24.86120042, 18.65724977, 23.53985838,\n",
       "       24.11396872, 17.71143854, 17.44000298, 21.65356278, 42.31137694,\n",
       "       23.84974493, 24.47573232, 27.53872655, 20.23606694, 31.15155453,\n",
       "       23.78237904, 25.00979443, 33.95768541, 36.43515649, 32.04098329,\n",
       "       16.71322632, 23.47176611, 32.93828009, 25.1807008 , 33.71008685,\n",
       "       16.88580202, 26.02760837, 23.27040025, 25.47758968, 15.00946631,\n",
       "       29.5857494 , 26.24821245, 20.37245654, 24.43681498,  9.44706894,\n",
       "        8.38096654, 29.01392345, 29.59085403, 19.7575697 , 20.3719679 ,\n",
       "        3.14442625, 39.52420118, 25.71741222, 30.37729628, 16.79453264,\n",
       "       17.89088652, 41.02574533, 17.57238787, 20.89662584, 15.59837696,\n",
       "       21.41394912, 18.4543645 , 23.1557639 , 13.67245022, 17.23573882,\n",
       "       15.02710365, 29.15131353, 25.17166386, 25.49749375, 17.21186687,\n",
       "       17.42936995, 34.70372763, 17.01340803, 27.10724289, 22.54695733,\n",
       "       29.25336918, 27.11018136, 17.73402192,  5.74704758, 36.87653877,\n",
       "       25.09193905, 30.15053651, 27.24080949, 16.2521844 , 32.63542161,\n",
       "       19.2735139 , 22.65416762, 22.22935077,  8.55084956, 17.33054362,\n",
       "       29.17591713, 27.20836198,  5.88576932, 21.91465626, 20.1154985 ,\n",
       "       22.17673963, 20.52700516, 20.85181227, 13.18132049, 19.69404919,\n",
       "       25.98666769, 40.27067742, 19.77706447, 33.70256574, 27.22074149,\n",
       "       28.74517137, 22.11543887, 25.9135196 , 31.30678414, 17.15297459,\n",
       "       26.37137846, 21.44656977, 36.73924503, 22.08272916, 16.70906176,\n",
       "       27.59458133, -0.05974722, 13.86188045, 16.28772152, 35.77134424,\n",
       "       20.85214459, 20.77286833, 25.35136054, 21.78782121, 18.84720303,\n",
       "       13.5148908 , 35.61958302, 23.09139597, 25.01812898, 17.46493171,\n",
       "       20.73709865, 14.72993727])"
      ]
     },
     "execution_count": 21,
     "metadata": {},
     "output_type": "execute_result"
    }
   ],
   "source": [
    "y_test_1=algo.predict(x_test)\n",
    "y_test_1=(y_test_1*sd)+mean\n",
    "y_test_1"
   ]
  },
  {
   "cell_type": "markdown",
   "metadata": {},
   "source": [
    "### comparison"
   ]
  },
  {
   "cell_type": "code",
   "execution_count": 22,
   "metadata": {},
   "outputs": [
    {
     "data": {
      "image/png": "[encoded data removed]",
      "text/plain": [
       "<Figure size 432x288 with 1 Axes>"
      ]
     },
     "metadata": {
      "needs_background": "light"
     },
     "output_type": "display_data"
    }
   ],
   "source": [
    "import matplotlib.pyplot as plt\n",
    "plt.scatter(y_test_1,y_test)\n",
    "plt.axis([0,50,0,50])\n",
    "plt.show()"
   ]
  },
  {
   "cell_type": "code",
   "execution_count": 24,
   "metadata": {},
   "outputs": [],
   "source": [
    "np.savetxt('boston_y_predict.csv',y_test,delimiter=',')"
   ]
  }
 ],
 "metadata": {
  "kernelspec": {
   "display_name": "Python 3",
   "language": "python",
   "name": "python3"
  },
  "language_info": {
   "codemirror_mode": {
    "name": "ipython",
    "version": 3
   },
   "file_extension": ".py",
   "mimetype": "text/x-python",
   "name": "python",
   "nbconvert_exporter": "python",
   "pygments_lexer": "ipython3",
   "version": "3.8.8"
  }
 },
 "nbformat": 4,
 "nbformat_minor": 4
}
