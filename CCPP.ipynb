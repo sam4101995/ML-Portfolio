{
 "cells": [
  {
   "cell_type": "markdown",
   "metadata": {},
   "source": [
    "# GRADIENT DECENT IMPLEMENTED ON COMBINED  CYCLE POWER PLANT"
   ]
  },
  {
   "cell_type": "code",
   "execution_count": 1,
   "metadata": {},
   "outputs": [],
   "source": [
    "import numpy as np\n",
    "import pandas as pd\n",
    "import random"
   ]
  },
  {
   "cell_type": "markdown",
   "metadata": {},
   "source": [
    "## Input x,y,x_test"
   ]
  },
  {
   "cell_type": "code",
   "execution_count": 2,
   "metadata": {},
   "outputs": [],
   "source": [
    "data=np.genfromtxt('Downloads/ccpp_x_y_train.csv',delimiter=',')\n",
    "data_test=np.genfromtxt('Downloads/ccpp_x_test.csv',delimiter=',')"
   ]
  },
  {
   "cell_type": "code",
   "execution_count": 3,
   "metadata": {},
   "outputs": [],
   "source": [
    "x=data[:,0:4]\n",
    "y=data[:,4]\n",
    "x_test=data_test"
   ]
  },
  {
   "cell_type": "markdown",
   "metadata": {},
   "source": [
    "## process"
   ]
  },
  {
   "cell_type": "code",
   "execution_count": 4,
   "metadata": {},
   "outputs": [],
   "source": [
    "[d0,d1]=x.shape\n",
    "[dt0,dt1]=x_test.shape\n",
    "norm=np.zeros([2,d1])"
   ]
  },
  {
   "cell_type": "code",
   "execution_count": 5,
   "metadata": {},
   "outputs": [
    {
     "data": {
      "text/plain": [
       "array([[-1.47827466e+00, -1.24764165e+00,  1.30221067e+00,\n",
       "         7.58624590e-01],\n",
       "       [ 2.89012041e-01,  3.06797549e-01,  6.61749044e-01,\n",
       "        -4.46921842e-01],\n",
       "       [-3.99975582e-01, -4.21012529e-01, -2.87207194e-01,\n",
       "         3.75010552e-01],\n",
       "       ...,\n",
       "       [ 1.36062192e+00,  1.18048335e+00, -6.54382840e-01,\n",
       "        -5.83682640e-01],\n",
       "       [-4.36097263e-01,  9.29089763e-04,  7.84140927e-01,\n",
       "        -6.59584883e-01],\n",
       "       [ 1.40209496e+00,  6.07960340e-01, -4.31394890e-01,\n",
       "        -1.73110573e+00]])"
      ]
     },
     "execution_count": 5,
     "metadata": {},
     "output_type": "execute_result"
    }
   ],
   "source": [
    "for i in range(d1):\n",
    "    norm[0,i]=x[:,i].mean()\n",
    "    norm[1,i]=np.sqrt(x[:,i].var())\n",
    "    x[:,i]=(x[:,i]-norm[0,i])/norm[1,i]\n",
    "x"
   ]
  },
  {
   "cell_type": "code",
   "execution_count": 6,
   "metadata": {},
   "outputs": [
    {
     "data": {
      "text/plain": [
       "array([[-1.02742256, -0.96138014,  0.72378329,  1.20446479],\n",
       "       [-1.01136848, -1.25783726, -0.09942787,  0.57331371],\n",
       "       [ 0.97398614,  1.62360048, -1.27807846,  0.39005424],\n",
       "       ...,\n",
       "       [ 0.62748557,  0.93814142, -0.69965107,  1.27284519],\n",
       "       [ 0.51644485, -0.90099073,  0.11685368, -0.54470581],\n",
       "       [ 0.28499852,  0.46914312,  0.95515424,  0.80580707]])"
      ]
     },
     "execution_count": 6,
     "metadata": {},
     "output_type": "execute_result"
    }
   ],
   "source": [
    "for i in range(d1):\n",
    "    x_test[:,i]=(x_test[:,i]-norm[0,i])/norm[1,i]\n",
    "x_test"
   ]
  },
  {
   "cell_type": "code",
   "execution_count": 7,
   "metadata": {},
   "outputs": [],
   "source": [
    "mean=y.mean()\n",
    "sd=np.sqrt(y.var())\n",
    "y=(y-mean)/sd"
   ]
  },
  {
   "cell_type": "code",
   "execution_count": 8,
   "metadata": {},
   "outputs": [
    {
     "data": {
      "text/plain": [
       "array([[-1.47827466e+00, -1.24764165e+00,  1.30221067e+00,\n",
       "         7.58624590e-01,  1.00000000e+00],\n",
       "       [ 2.89012041e-01,  3.06797549e-01,  6.61749044e-01,\n",
       "        -4.46921842e-01,  1.00000000e+00],\n",
       "       [-3.99975582e-01, -4.21012529e-01, -2.87207194e-01,\n",
       "         3.75010552e-01,  1.00000000e+00],\n",
       "       ...,\n",
       "       [ 1.36062192e+00,  1.18048335e+00, -6.54382840e-01,\n",
       "        -5.83682640e-01,  1.00000000e+00],\n",
       "       [-4.36097263e-01,  9.29089763e-04,  7.84140927e-01,\n",
       "        -6.59584883e-01,  1.00000000e+00],\n",
       "       [ 1.40209496e+00,  6.07960340e-01, -4.31394890e-01,\n",
       "        -1.73110573e+00,  1.00000000e+00]])"
      ]
     },
     "execution_count": 8,
     "metadata": {},
     "output_type": "execute_result"
    }
   ],
   "source": [
    "xdf=pd.DataFrame(x)\n",
    "xdf[d1]=np.ones(d0)\n",
    "x=xdf.values\n",
    "x"
   ]
  },
  {
   "cell_type": "code",
   "execution_count": 9,
   "metadata": {},
   "outputs": [
    {
     "data": {
      "text/plain": [
       "array([[-1.02742256, -0.96138014,  0.72378329,  1.20446479,  1.        ],\n",
       "       [-1.01136848, -1.25783726, -0.09942787,  0.57331371,  1.        ],\n",
       "       [ 0.97398614,  1.62360048, -1.27807846,  0.39005424,  1.        ],\n",
       "       ...,\n",
       "       [ 0.62748557,  0.93814142, -0.69965107,  1.27284519,  1.        ],\n",
       "       [ 0.51644485, -0.90099073,  0.11685368, -0.54470581,  1.        ],\n",
       "       [ 0.28499852,  0.46914312,  0.95515424,  0.80580707,  1.        ]])"
      ]
     },
     "execution_count": 9,
     "metadata": {},
     "output_type": "execute_result"
    }
   ],
   "source": [
    "xtdf=pd.DataFrame(x_test)\n",
    "xtdf[d1]=np.ones(dt0)\n",
    "x_test=xtdf.values\n",
    "x_test"
   ]
  },
  {
   "cell_type": "code",
   "execution_count": 10,
   "metadata": {},
   "outputs": [],
   "source": [
    "def grad_point(x,y,m,d1,i):\n",
    "    grad=np.zeros(d1)\n",
    "    for k in range(d1):\n",
    "        grad[k]=2*x[i,k]*((m*x[i,:]).sum()-y[i])\n",
    "    return grad"
   ]
  },
  {
   "cell_type": "code",
   "execution_count": 11,
   "metadata": {},
   "outputs": [],
   "source": [
    "def grad_cost(x,y,m,d0,d1):\n",
    "    grad=np.zeros(d1)\n",
    "    for i in range(d0):\n",
    "        grad+=grad_point(x,y,m,d1,i)\n",
    "    return grad/d0"
   ]
  },
  {
   "cell_type": "code",
   "execution_count": 12,
   "metadata": {},
   "outputs": [],
   "source": [
    "def grad_batch(x,y,m,d0,d1,batch):\n",
    "    grad=np.zeros(d1)\n",
    "    index=random.sample(range(d0),batch)\n",
    "    for i in index:\n",
    "        grad+=grad_point(x,y,m,d1,i)\n",
    "    return grad/batch"
   ]
  },
  {
   "cell_type": "code",
   "execution_count": 13,
   "metadata": {},
   "outputs": [],
   "source": [
    "def gd(x,y,m,d0,d1,lr,limit):\n",
    "    mn=m\n",
    "    i=0\n",
    "    while i< limit:\n",
    "        mn-=lr*grad_cost(x,y,mn,d0,d1)\n",
    "        i+=1\n",
    "    return mn"
   ]
  },
  {
   "cell_type": "code",
   "execution_count": 14,
   "metadata": {},
   "outputs": [],
   "source": [
    "def sgd(x,y,m,d0,d1,lr,limit):\n",
    "    mn=m\n",
    "    i=0\n",
    "    while i< limit:\n",
    "        for j in range(d0):\n",
    "            mn-=lr*grad_point(x,y,mn,d1,j)\n",
    "        i+=1\n",
    "    return mn"
   ]
  },
  {
   "cell_type": "code",
   "execution_count": 15,
   "metadata": {},
   "outputs": [],
   "source": [
    "def bgd(x,y,m,d0,d1,lr,limit,batch):\n",
    "    mn=m\n",
    "    i=0\n",
    "    while i< limit:\n",
    "        mn-=lr*grad_batch(x,y,mn,d0,d1,batch)\n",
    "        i+=1\n",
    "    return mn"
   ]
  },
  {
   "cell_type": "code",
   "execution_count": 16,
   "metadata": {},
   "outputs": [],
   "source": [
    "[d0,d1]=x.shape\n",
    "[dt0,dt1]=x_test.shape"
   ]
  },
  {
   "cell_type": "code",
   "execution_count": 17,
   "metadata": {},
   "outputs": [],
   "source": [
    "m=np.zeros(d1)"
   ]
  },
  {
   "cell_type": "code",
   "execution_count": 18,
   "metadata": {},
   "outputs": [
    {
     "name": "stdout",
     "output_type": "stream",
     "text": [
      "[-0.69957288 -0.27355608  0.0827531  -0.06013889 -0.01422754]\n"
     ]
    }
   ],
   "source": [
    "lr=.3\n",
    "mo=bgd(x,y,m,d0,d1,lr,15,60)\n",
    "print(mo)"
   ]
  },
  {
   "cell_type": "code",
   "execution_count": 19,
   "metadata": {},
   "outputs": [
    {
     "name": "stdout",
     "output_type": "stream",
     "text": [
      "[-0.86980688 -0.16892631  0.02041279 -0.13670987  0.        ]\n",
      "-1.4549681635337864e-15\n"
     ]
    }
   ],
   "source": [
    "from sklearn import linear_model as lm\n",
    "algo=lm.LinearRegression()\n",
    "algo.fit(x,y)\n",
    "print(algo.coef_)\n",
    "print(algo.intercept_)"
   ]
  },
  {
   "cell_type": "markdown",
   "metadata": {},
   "source": [
    "##  Prediction"
   ]
  },
  {
   "cell_type": "code",
   "execution_count": 20,
   "metadata": {},
   "outputs": [
    {
     "data": {
      "text/plain": [
       "array([470.79334181, 471.47353854, 432.68955148, ..., 439.96593383,\n",
       "       452.94721964, 449.09664323])"
      ]
     },
     "execution_count": 20,
     "metadata": {},
     "output_type": "execute_result"
    }
   ],
   "source": [
    "y_test=np.zeros(dt0)\n",
    "for i in range(dt0):\n",
    "    y_test[i]=(mo*x_test[i,:]).sum()\n",
    "y_test=(sd*y_test)+mean\n",
    "y_test"
   ]
  },
  {
   "cell_type": "code",
   "execution_count": 21,
   "metadata": {},
   "outputs": [
    {
     "data": {
      "text/plain": [
       "array([469.95711113, 471.76632733, 433.85647002, ..., 439.13871988,\n",
       "       450.65930697, 447.27281902])"
      ]
     },
     "execution_count": 21,
     "metadata": {},
     "output_type": "execute_result"
    }
   ],
   "source": [
    "y_test_1=algo.predict(x_test)\n",
    "y_test_1=(y_test_1*sd)+mean\n",
    "y_test_1"
   ]
  },
  {
   "cell_type": "code",
   "execution_count": 22,
   "metadata": {},
   "outputs": [
    {
     "data": {
      "image/png": "[encoded data removed]",
      "text/plain": [
       "<Figure size 432x288 with 1 Axes>"
      ]
     },
     "metadata": {
      "needs_background": "light"
     },
     "output_type": "display_data"
    }
   ],
   "source": [
    "import matplotlib.pyplot as plt\n",
    "plt.scatter(y_test_1,y_test)\n",
    "plt.axis([400,500,400,500])\n",
    "plt.show()"
   ]
  },
  {
   "cell_type": "code",
   "execution_count": 23,
   "metadata": {},
   "outputs": [],
   "source": [
    "np.savetxt('Downloads/ccpp_y_predict.csv',y_test,delimiter=',')"
   ]
  }
 ],
 "metadata": {
  "kernelspec": {
   "display_name": "Python 3",
   "language": "python",
   "name": "python3"
  },
  "language_info": {
   "codemirror_mode": {
    "name": "ipython",
    "version": 3
   },
   "file_extension": ".py",
   "mimetype": "text/x-python",
   "name": "python",
   "nbconvert_exporter": "python",
   "pygments_lexer": "ipython3",
   "version": "3.8.8"
  }
 },
 "nbformat": 4,
 "nbformat_minor": 4
}
