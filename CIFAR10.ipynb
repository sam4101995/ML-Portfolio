{
 "cells": [
  {
   "cell_type": "code",
   "execution_count": 1,
   "id": "330b1e45",
   "metadata": {},
   "outputs": [],
   "source": [
    "import numpy as np\n",
    "import pandas as pd\n",
    "import sklearn.decomposition as skd"
   ]
  },
  {
   "cell_type": "code",
   "execution_count": 2,
   "id": "e84c1705",
   "metadata": {},
   "outputs": [],
   "source": [
    "import pickle"
   ]
  },
  {
   "cell_type": "code",
   "execution_count": 3,
   "id": "f82cb935",
   "metadata": {},
   "outputs": [],
   "source": [
    "def unpickle(file):\n",
    "    with open(file, 'rb') as fo:\n",
    "        dict = pickle.load(fo, encoding='bytes')\n",
    "    return dict"
   ]
  },
  {
   "cell_type": "code",
   "execution_count": 4,
   "id": "8ca7357f",
   "metadata": {},
   "outputs": [],
   "source": [
    "batch1=unpickle('Downloads\\cifar10\\data_batch_1')"
   ]
  },
  {
   "cell_type": "code",
   "execution_count": 5,
   "id": "d51a4ef4",
   "metadata": {},
   "outputs": [],
   "source": [
    "image=batch1[b'data']"
   ]
  },
  {
   "cell_type": "code",
   "execution_count": 6,
   "id": "998e9f7d",
   "metadata": {},
   "outputs": [],
   "source": [
    "pca=skd.PCA(n_components=1500)"
   ]
  },
  {
   "cell_type": "code",
   "execution_count": 7,
   "id": "343da6ed",
   "metadata": {},
   "outputs": [
    {
     "data": {
      "text/plain": [
       "PCA(n_components=1500)"
      ]
     },
     "execution_count": 7,
     "metadata": {},
     "output_type": "execute_result"
    }
   ],
   "source": [
    "pca.fit(image)"
   ]
  },
  {
   "cell_type": "code",
   "execution_count": 8,
   "id": "5b2f0baf",
   "metadata": {
    "scrolled": true
   },
   "outputs": [
    {
     "data": {
      "text/plain": [
       "array([3.65294943e+06, 1.40842701e+06, 8.19020367e+05, ...,\n",
       "       2.26338584e+01, 2.25566518e+01, 2.24918070e+01])"
      ]
     },
     "execution_count": 8,
     "metadata": {},
     "output_type": "execute_result"
    }
   ],
   "source": [
    "pca.explained_variance_"
   ]
  },
  {
   "cell_type": "code",
   "execution_count": 11,
   "id": "650afc50",
   "metadata": {},
   "outputs": [
    {
     "data": {
      "text/plain": [
       "array([[-1.66786333e+03, -7.04951956e+02,  3.55547396e+02, ...,\n",
       "        -4.53827877e+00, -4.59657005e+00,  3.94369358e+00],\n",
       "       [ 1.68718819e+02,  2.14158957e+02,  1.55982239e+03, ...,\n",
       "        -3.21359798e+00,  3.71714487e-01,  8.36257038e-01],\n",
       "       [ 1.96093846e+03,  2.93034428e+03, -6.31292284e+02, ...,\n",
       "         3.94511164e+00, -2.49302915e+00, -1.87585798e+00],\n",
       "       ...,\n",
       "       [-3.30327785e+02,  2.43792701e+03, -3.74213598e+02, ...,\n",
       "         2.57728336e+00,  3.09270046e-01, -5.05892370e-01],\n",
       "       [ 1.79608664e+02, -4.50775000e+02, -4.10255349e+02, ...,\n",
       "        -1.56251000e+00, -8.66873702e+00, -4.04872230e+00],\n",
       "       [-6.32447973e+02, -1.60751972e+03,  4.78398657e+02, ...,\n",
       "         3.58618287e+00, -6.23173423e+00, -3.24483297e+00]])"
      ]
     },
     "execution_count": 11,
     "metadata": {},
     "output_type": "execute_result"
    }
   ],
   "source": [
    "pca.fit_transform(image)"
   ]
  }
 ],
 "metadata": {
  "kernelspec": {
   "display_name": "Python 3",
   "language": "python",
   "name": "python3"
  },
  "language_info": {
   "codemirror_mode": {
    "name": "ipython",
    "version": 3
   },
   "file_extension": ".py",
   "mimetype": "text/x-python",
   "name": "python",
   "nbconvert_exporter": "python",
   "pygments_lexer": "ipython3",
   "version": "3.8.8"
  }
 },
 "nbformat": 4,
 "nbformat_minor": 5
}
